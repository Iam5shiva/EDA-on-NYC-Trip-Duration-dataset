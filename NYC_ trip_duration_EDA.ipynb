{
 "cells": [
  {
   "cell_type": "code",
   "execution_count": 1,
   "id": "083bf23d",
   "metadata": {},
   "outputs": [],
   "source": [
    "# importing libraries\n",
    "import pandas as pd\n",
    "import numpy as np\n",
    "import matplotlib.pyplot as plt\n",
    "import seaborn as sns"
   ]
  },
  {
   "cell_type": "code",
   "execution_count": 2,
   "id": "cb20e6d7",
   "metadata": {},
   "outputs": [],
   "source": [
    "# reading data\n",
    "df = pd.read_csv('nyc_taxi_trip_duration.csv')"
   ]
  },
  {
   "cell_type": "code",
   "execution_count": 3,
   "id": "d299999e",
   "metadata": {},
   "outputs": [
    {
     "data": {
      "text/html": [
       "<div>\n",
       "<style scoped>\n",
       "    .dataframe tbody tr th:only-of-type {\n",
       "        vertical-align: middle;\n",
       "    }\n",
       "\n",
       "    .dataframe tbody tr th {\n",
       "        vertical-align: top;\n",
       "    }\n",
       "\n",
       "    .dataframe thead th {\n",
       "        text-align: right;\n",
       "    }\n",
       "</style>\n",
       "<table border=\"1\" class=\"dataframe\">\n",
       "  <thead>\n",
       "    <tr style=\"text-align: right;\">\n",
       "      <th></th>\n",
       "      <th>id</th>\n",
       "      <th>vendor_id</th>\n",
       "      <th>pickup_datetime</th>\n",
       "      <th>dropoff_datetime</th>\n",
       "      <th>passenger_count</th>\n",
       "      <th>pickup_longitude</th>\n",
       "      <th>pickup_latitude</th>\n",
       "      <th>dropoff_longitude</th>\n",
       "      <th>dropoff_latitude</th>\n",
       "      <th>store_and_fwd_flag</th>\n",
       "      <th>trip_duration</th>\n",
       "    </tr>\n",
       "  </thead>\n",
       "  <tbody>\n",
       "    <tr>\n",
       "      <th>0</th>\n",
       "      <td>id1080784</td>\n",
       "      <td>2</td>\n",
       "      <td>2016-02-29 16:40:21</td>\n",
       "      <td>2016-02-29 16:47:01</td>\n",
       "      <td>1</td>\n",
       "      <td>-73.953918</td>\n",
       "      <td>40.778873</td>\n",
       "      <td>-73.963875</td>\n",
       "      <td>40.771164</td>\n",
       "      <td>N</td>\n",
       "      <td>400</td>\n",
       "    </tr>\n",
       "    <tr>\n",
       "      <th>1</th>\n",
       "      <td>id0889885</td>\n",
       "      <td>1</td>\n",
       "      <td>2016-03-11 23:35:37</td>\n",
       "      <td>2016-03-11 23:53:57</td>\n",
       "      <td>2</td>\n",
       "      <td>-73.988312</td>\n",
       "      <td>40.731743</td>\n",
       "      <td>-73.994751</td>\n",
       "      <td>40.694931</td>\n",
       "      <td>N</td>\n",
       "      <td>1100</td>\n",
       "    </tr>\n",
       "    <tr>\n",
       "      <th>2</th>\n",
       "      <td>id0857912</td>\n",
       "      <td>2</td>\n",
       "      <td>2016-02-21 17:59:33</td>\n",
       "      <td>2016-02-21 18:26:48</td>\n",
       "      <td>2</td>\n",
       "      <td>-73.997314</td>\n",
       "      <td>40.721458</td>\n",
       "      <td>-73.948029</td>\n",
       "      <td>40.774918</td>\n",
       "      <td>N</td>\n",
       "      <td>1635</td>\n",
       "    </tr>\n",
       "    <tr>\n",
       "      <th>3</th>\n",
       "      <td>id3744273</td>\n",
       "      <td>2</td>\n",
       "      <td>2016-01-05 09:44:31</td>\n",
       "      <td>2016-01-05 10:03:32</td>\n",
       "      <td>6</td>\n",
       "      <td>-73.961670</td>\n",
       "      <td>40.759720</td>\n",
       "      <td>-73.956779</td>\n",
       "      <td>40.780628</td>\n",
       "      <td>N</td>\n",
       "      <td>1141</td>\n",
       "    </tr>\n",
       "    <tr>\n",
       "      <th>4</th>\n",
       "      <td>id0232939</td>\n",
       "      <td>1</td>\n",
       "      <td>2016-02-17 06:42:23</td>\n",
       "      <td>2016-02-17 06:56:31</td>\n",
       "      <td>1</td>\n",
       "      <td>-74.017120</td>\n",
       "      <td>40.708469</td>\n",
       "      <td>-73.988182</td>\n",
       "      <td>40.740631</td>\n",
       "      <td>N</td>\n",
       "      <td>848</td>\n",
       "    </tr>\n",
       "  </tbody>\n",
       "</table>\n",
       "</div>"
      ],
      "text/plain": [
       "          id  vendor_id      pickup_datetime     dropoff_datetime  \\\n",
       "0  id1080784          2  2016-02-29 16:40:21  2016-02-29 16:47:01   \n",
       "1  id0889885          1  2016-03-11 23:35:37  2016-03-11 23:53:57   \n",
       "2  id0857912          2  2016-02-21 17:59:33  2016-02-21 18:26:48   \n",
       "3  id3744273          2  2016-01-05 09:44:31  2016-01-05 10:03:32   \n",
       "4  id0232939          1  2016-02-17 06:42:23  2016-02-17 06:56:31   \n",
       "\n",
       "   passenger_count  pickup_longitude  pickup_latitude  dropoff_longitude  \\\n",
       "0                1        -73.953918        40.778873         -73.963875   \n",
       "1                2        -73.988312        40.731743         -73.994751   \n",
       "2                2        -73.997314        40.721458         -73.948029   \n",
       "3                6        -73.961670        40.759720         -73.956779   \n",
       "4                1        -74.017120        40.708469         -73.988182   \n",
       "\n",
       "   dropoff_latitude store_and_fwd_flag  trip_duration  \n",
       "0         40.771164                  N            400  \n",
       "1         40.694931                  N           1100  \n",
       "2         40.774918                  N           1635  \n",
       "3         40.780628                  N           1141  \n",
       "4         40.740631                  N            848  "
      ]
     },
     "execution_count": 3,
     "metadata": {},
     "output_type": "execute_result"
    }
   ],
   "source": [
    "df.head()"
   ]
  },
  {
   "cell_type": "code",
   "execution_count": 4,
   "id": "c9ac52ea",
   "metadata": {},
   "outputs": [
    {
     "data": {
      "text/plain": [
       "(729322, 11)"
      ]
     },
     "execution_count": 4,
     "metadata": {},
     "output_type": "execute_result"
    }
   ],
   "source": [
    "df.shape"
   ]
  },
  {
   "cell_type": "code",
   "execution_count": 5,
   "id": "5a90e4d4",
   "metadata": {},
   "outputs": [
    {
     "data": {
      "text/html": [
       "<div>\n",
       "<style scoped>\n",
       "    .dataframe tbody tr th:only-of-type {\n",
       "        vertical-align: middle;\n",
       "    }\n",
       "\n",
       "    .dataframe tbody tr th {\n",
       "        vertical-align: top;\n",
       "    }\n",
       "\n",
       "    .dataframe thead th {\n",
       "        text-align: right;\n",
       "    }\n",
       "</style>\n",
       "<table border=\"1\" class=\"dataframe\">\n",
       "  <thead>\n",
       "    <tr style=\"text-align: right;\">\n",
       "      <th></th>\n",
       "      <th>vendor_id</th>\n",
       "      <th>passenger_count</th>\n",
       "      <th>pickup_longitude</th>\n",
       "      <th>pickup_latitude</th>\n",
       "      <th>dropoff_longitude</th>\n",
       "      <th>dropoff_latitude</th>\n",
       "      <th>trip_duration</th>\n",
       "    </tr>\n",
       "  </thead>\n",
       "  <tbody>\n",
       "    <tr>\n",
       "      <th>count</th>\n",
       "      <td>729322.000000</td>\n",
       "      <td>729322.000000</td>\n",
       "      <td>729322.000000</td>\n",
       "      <td>729322.000000</td>\n",
       "      <td>729322.000000</td>\n",
       "      <td>729322.000000</td>\n",
       "      <td>7.293220e+05</td>\n",
       "    </tr>\n",
       "    <tr>\n",
       "      <th>mean</th>\n",
       "      <td>1.535403</td>\n",
       "      <td>1.662055</td>\n",
       "      <td>-73.973513</td>\n",
       "      <td>40.750919</td>\n",
       "      <td>-73.973422</td>\n",
       "      <td>40.751775</td>\n",
       "      <td>9.522291e+02</td>\n",
       "    </tr>\n",
       "    <tr>\n",
       "      <th>std</th>\n",
       "      <td>0.498745</td>\n",
       "      <td>1.312446</td>\n",
       "      <td>0.069754</td>\n",
       "      <td>0.033594</td>\n",
       "      <td>0.069588</td>\n",
       "      <td>0.036037</td>\n",
       "      <td>3.864626e+03</td>\n",
       "    </tr>\n",
       "    <tr>\n",
       "      <th>min</th>\n",
       "      <td>1.000000</td>\n",
       "      <td>0.000000</td>\n",
       "      <td>-121.933342</td>\n",
       "      <td>34.712234</td>\n",
       "      <td>-121.933304</td>\n",
       "      <td>32.181141</td>\n",
       "      <td>1.000000e+00</td>\n",
       "    </tr>\n",
       "    <tr>\n",
       "      <th>25%</th>\n",
       "      <td>1.000000</td>\n",
       "      <td>1.000000</td>\n",
       "      <td>-73.991859</td>\n",
       "      <td>40.737335</td>\n",
       "      <td>-73.991318</td>\n",
       "      <td>40.735931</td>\n",
       "      <td>3.970000e+02</td>\n",
       "    </tr>\n",
       "    <tr>\n",
       "      <th>50%</th>\n",
       "      <td>2.000000</td>\n",
       "      <td>1.000000</td>\n",
       "      <td>-73.981758</td>\n",
       "      <td>40.754070</td>\n",
       "      <td>-73.979759</td>\n",
       "      <td>40.754509</td>\n",
       "      <td>6.630000e+02</td>\n",
       "    </tr>\n",
       "    <tr>\n",
       "      <th>75%</th>\n",
       "      <td>2.000000</td>\n",
       "      <td>2.000000</td>\n",
       "      <td>-73.967361</td>\n",
       "      <td>40.768314</td>\n",
       "      <td>-73.963036</td>\n",
       "      <td>40.769741</td>\n",
       "      <td>1.075000e+03</td>\n",
       "    </tr>\n",
       "    <tr>\n",
       "      <th>max</th>\n",
       "      <td>2.000000</td>\n",
       "      <td>9.000000</td>\n",
       "      <td>-65.897385</td>\n",
       "      <td>51.881084</td>\n",
       "      <td>-65.897385</td>\n",
       "      <td>43.921028</td>\n",
       "      <td>1.939736e+06</td>\n",
       "    </tr>\n",
       "  </tbody>\n",
       "</table>\n",
       "</div>"
      ],
      "text/plain": [
       "           vendor_id  passenger_count  pickup_longitude  pickup_latitude  \\\n",
       "count  729322.000000    729322.000000     729322.000000    729322.000000   \n",
       "mean        1.535403         1.662055        -73.973513        40.750919   \n",
       "std         0.498745         1.312446          0.069754         0.033594   \n",
       "min         1.000000         0.000000       -121.933342        34.712234   \n",
       "25%         1.000000         1.000000        -73.991859        40.737335   \n",
       "50%         2.000000         1.000000        -73.981758        40.754070   \n",
       "75%         2.000000         2.000000        -73.967361        40.768314   \n",
       "max         2.000000         9.000000        -65.897385        51.881084   \n",
       "\n",
       "       dropoff_longitude  dropoff_latitude  trip_duration  \n",
       "count      729322.000000     729322.000000   7.293220e+05  \n",
       "mean          -73.973422         40.751775   9.522291e+02  \n",
       "std             0.069588          0.036037   3.864626e+03  \n",
       "min          -121.933304         32.181141   1.000000e+00  \n",
       "25%           -73.991318         40.735931   3.970000e+02  \n",
       "50%           -73.979759         40.754509   6.630000e+02  \n",
       "75%           -73.963036         40.769741   1.075000e+03  \n",
       "max           -65.897385         43.921028   1.939736e+06  "
      ]
     },
     "execution_count": 5,
     "metadata": {},
     "output_type": "execute_result"
    }
   ],
   "source": [
    "df.describe()"
   ]
  },
  {
   "cell_type": "code",
   "execution_count": 6,
   "id": "ab7ed656",
   "metadata": {},
   "outputs": [
    {
     "data": {
      "text/plain": [
       "id                    0\n",
       "vendor_id             0\n",
       "pickup_datetime       0\n",
       "dropoff_datetime      0\n",
       "passenger_count       0\n",
       "pickup_longitude      0\n",
       "pickup_latitude       0\n",
       "dropoff_longitude     0\n",
       "dropoff_latitude      0\n",
       "store_and_fwd_flag    0\n",
       "trip_duration         0\n",
       "dtype: int64"
      ]
     },
     "execution_count": 6,
     "metadata": {},
     "output_type": "execute_result"
    }
   ],
   "source": [
    "df.isnull().sum()"
   ]
  },
  {
   "cell_type": "code",
   "execution_count": 7,
   "id": "840bc5e3",
   "metadata": {},
   "outputs": [
    {
     "name": "stdout",
     "output_type": "stream",
     "text": [
      "<class 'pandas.core.frame.DataFrame'>\n",
      "RangeIndex: 729322 entries, 0 to 729321\n",
      "Data columns (total 11 columns):\n",
      " #   Column              Non-Null Count   Dtype  \n",
      "---  ------              --------------   -----  \n",
      " 0   id                  729322 non-null  object \n",
      " 1   vendor_id           729322 non-null  int64  \n",
      " 2   pickup_datetime     729322 non-null  object \n",
      " 3   dropoff_datetime    729322 non-null  object \n",
      " 4   passenger_count     729322 non-null  int64  \n",
      " 5   pickup_longitude    729322 non-null  float64\n",
      " 6   pickup_latitude     729322 non-null  float64\n",
      " 7   dropoff_longitude   729322 non-null  float64\n",
      " 8   dropoff_latitude    729322 non-null  float64\n",
      " 9   store_and_fwd_flag  729322 non-null  object \n",
      " 10  trip_duration       729322 non-null  int64  \n",
      "dtypes: float64(4), int64(3), object(4)\n",
      "memory usage: 61.2+ MB\n"
     ]
    }
   ],
   "source": [
    "df.info()"
   ]
  },
  {
   "cell_type": "markdown",
   "id": "a503920d",
   "metadata": {},
   "source": [
    "* <b> Continuous variables </b> - pickup_longitude, pickup_latitude, dropoff_longitude, dropoff_latitude , trip_duration\n",
    "* <b> Categorical variables </b> - vendor_id, passenger_count, store_and_fwd_flag\n",
    "* <b> datetime variables </b> - pickup_datetime, dropoff_datetime\n",
    "#### id is not providing any important information, we can ignore it"
   ]
  },
  {
   "cell_type": "code",
   "execution_count": 8,
   "id": "70184eaf",
   "metadata": {},
   "outputs": [],
   "source": [
    "# Converting datetime variables from 'object' to datetime\n",
    "import datetime\n",
    "df.pickup_datetime = pd.to_datetime(df.pickup_datetime)\n",
    "df.dropoff_datetime = pd.to_datetime(df.dropoff_datetime)"
   ]
  },
  {
   "cell_type": "code",
   "execution_count": 9,
   "id": "ee49b544",
   "metadata": {},
   "outputs": [],
   "source": [
    "df['pickup_day_name'] = df.pickup_datetime.apply(lambda x: x.day_name())\n",
    "df['dropoff_day_name'] = df.dropoff_datetime.apply(lambda x: x.day_name())"
   ]
  },
  {
   "cell_type": "code",
   "execution_count": 10,
   "id": "9ac4f3ea",
   "metadata": {},
   "outputs": [],
   "source": [
    "df['pickup_month'] = df.pickup_datetime.apply(lambda x: x.month_name())\n",
    "df['dropoff_month'] = df.dropoff_datetime.apply(lambda x: x.month_name())"
   ]
  },
  {
   "cell_type": "code",
   "execution_count": 12,
   "id": "8ff5daf2",
   "metadata": {},
   "outputs": [],
   "source": [
    "df['pickup_day'] = df.pickup_datetime.dt.day\n",
    "df['dropoff_day'] = df.dropoff_datetime.dt.day"
   ]
  },
  {
   "cell_type": "code",
   "execution_count": 13,
   "id": "34b21c96",
   "metadata": {},
   "outputs": [
    {
     "name": "stdout",
     "output_type": "stream",
     "text": [
      "Requirement already satisfied: haversine in c:\\users\\123\\anaconda\\lib\\site-packages (2.5.1)Note: you may need to restart the kernel to use updated packages.\n",
      "\n"
     ]
    }
   ],
   "source": [
    "pip install haversine"
   ]
  },
  {
   "cell_type": "code",
   "execution_count": 14,
   "id": "be2551d4",
   "metadata": {},
   "outputs": [],
   "source": [
    "from haversine import haversine\n",
    "df['distance_in_km'] = df.apply(lambda x: haversine((x['pickup_latitude'], x['pickup_longitude']), (x['dropoff_latitude'],x['dropoff_longitude'])), axis=1)"
   ]
  },
  {
   "cell_type": "code",
   "execution_count": 15,
   "id": "4ec68804",
   "metadata": {},
   "outputs": [
    {
     "data": {
      "text/html": [
       "<div>\n",
       "<style scoped>\n",
       "    .dataframe tbody tr th:only-of-type {\n",
       "        vertical-align: middle;\n",
       "    }\n",
       "\n",
       "    .dataframe tbody tr th {\n",
       "        vertical-align: top;\n",
       "    }\n",
       "\n",
       "    .dataframe thead th {\n",
       "        text-align: right;\n",
       "    }\n",
       "</style>\n",
       "<table border=\"1\" class=\"dataframe\">\n",
       "  <thead>\n",
       "    <tr style=\"text-align: right;\">\n",
       "      <th></th>\n",
       "      <th>id</th>\n",
       "      <th>vendor_id</th>\n",
       "      <th>pickup_datetime</th>\n",
       "      <th>dropoff_datetime</th>\n",
       "      <th>passenger_count</th>\n",
       "      <th>pickup_longitude</th>\n",
       "      <th>pickup_latitude</th>\n",
       "      <th>dropoff_longitude</th>\n",
       "      <th>dropoff_latitude</th>\n",
       "      <th>store_and_fwd_flag</th>\n",
       "      <th>trip_duration</th>\n",
       "      <th>pickup_day_name</th>\n",
       "      <th>dropoff_day_name</th>\n",
       "      <th>pickup_month</th>\n",
       "      <th>dropoff_month</th>\n",
       "      <th>pickup_day</th>\n",
       "      <th>dropoff_day</th>\n",
       "      <th>distance_in_km</th>\n",
       "    </tr>\n",
       "  </thead>\n",
       "  <tbody>\n",
       "    <tr>\n",
       "      <th>0</th>\n",
       "      <td>id1080784</td>\n",
       "      <td>2</td>\n",
       "      <td>2016-02-29 16:40:21</td>\n",
       "      <td>2016-02-29 16:47:01</td>\n",
       "      <td>1</td>\n",
       "      <td>-73.953918</td>\n",
       "      <td>40.778873</td>\n",
       "      <td>-73.963875</td>\n",
       "      <td>40.771164</td>\n",
       "      <td>N</td>\n",
       "      <td>400</td>\n",
       "      <td>Monday</td>\n",
       "      <td>Monday</td>\n",
       "      <td>February</td>\n",
       "      <td>February</td>\n",
       "      <td>29</td>\n",
       "      <td>29</td>\n",
       "      <td>1.199074</td>\n",
       "    </tr>\n",
       "    <tr>\n",
       "      <th>1</th>\n",
       "      <td>id0889885</td>\n",
       "      <td>1</td>\n",
       "      <td>2016-03-11 23:35:37</td>\n",
       "      <td>2016-03-11 23:53:57</td>\n",
       "      <td>2</td>\n",
       "      <td>-73.988312</td>\n",
       "      <td>40.731743</td>\n",
       "      <td>-73.994751</td>\n",
       "      <td>40.694931</td>\n",
       "      <td>N</td>\n",
       "      <td>1100</td>\n",
       "      <td>Friday</td>\n",
       "      <td>Friday</td>\n",
       "      <td>March</td>\n",
       "      <td>March</td>\n",
       "      <td>11</td>\n",
       "      <td>11</td>\n",
       "      <td>4.129117</td>\n",
       "    </tr>\n",
       "    <tr>\n",
       "      <th>2</th>\n",
       "      <td>id0857912</td>\n",
       "      <td>2</td>\n",
       "      <td>2016-02-21 17:59:33</td>\n",
       "      <td>2016-02-21 18:26:48</td>\n",
       "      <td>2</td>\n",
       "      <td>-73.997314</td>\n",
       "      <td>40.721458</td>\n",
       "      <td>-73.948029</td>\n",
       "      <td>40.774918</td>\n",
       "      <td>N</td>\n",
       "      <td>1635</td>\n",
       "      <td>Sunday</td>\n",
       "      <td>Sunday</td>\n",
       "      <td>February</td>\n",
       "      <td>February</td>\n",
       "      <td>21</td>\n",
       "      <td>21</td>\n",
       "      <td>7.250763</td>\n",
       "    </tr>\n",
       "    <tr>\n",
       "      <th>3</th>\n",
       "      <td>id3744273</td>\n",
       "      <td>2</td>\n",
       "      <td>2016-01-05 09:44:31</td>\n",
       "      <td>2016-01-05 10:03:32</td>\n",
       "      <td>6</td>\n",
       "      <td>-73.961670</td>\n",
       "      <td>40.759720</td>\n",
       "      <td>-73.956779</td>\n",
       "      <td>40.780628</td>\n",
       "      <td>N</td>\n",
       "      <td>1141</td>\n",
       "      <td>Tuesday</td>\n",
       "      <td>Tuesday</td>\n",
       "      <td>January</td>\n",
       "      <td>January</td>\n",
       "      <td>5</td>\n",
       "      <td>5</td>\n",
       "      <td>2.361101</td>\n",
       "    </tr>\n",
       "    <tr>\n",
       "      <th>4</th>\n",
       "      <td>id0232939</td>\n",
       "      <td>1</td>\n",
       "      <td>2016-02-17 06:42:23</td>\n",
       "      <td>2016-02-17 06:56:31</td>\n",
       "      <td>1</td>\n",
       "      <td>-74.017120</td>\n",
       "      <td>40.708469</td>\n",
       "      <td>-73.988182</td>\n",
       "      <td>40.740631</td>\n",
       "      <td>N</td>\n",
       "      <td>848</td>\n",
       "      <td>Wednesday</td>\n",
       "      <td>Wednesday</td>\n",
       "      <td>February</td>\n",
       "      <td>February</td>\n",
       "      <td>17</td>\n",
       "      <td>17</td>\n",
       "      <td>4.328540</td>\n",
       "    </tr>\n",
       "  </tbody>\n",
       "</table>\n",
       "</div>"
      ],
      "text/plain": [
       "          id  vendor_id     pickup_datetime    dropoff_datetime  \\\n",
       "0  id1080784          2 2016-02-29 16:40:21 2016-02-29 16:47:01   \n",
       "1  id0889885          1 2016-03-11 23:35:37 2016-03-11 23:53:57   \n",
       "2  id0857912          2 2016-02-21 17:59:33 2016-02-21 18:26:48   \n",
       "3  id3744273          2 2016-01-05 09:44:31 2016-01-05 10:03:32   \n",
       "4  id0232939          1 2016-02-17 06:42:23 2016-02-17 06:56:31   \n",
       "\n",
       "   passenger_count  pickup_longitude  pickup_latitude  dropoff_longitude  \\\n",
       "0                1        -73.953918        40.778873         -73.963875   \n",
       "1                2        -73.988312        40.731743         -73.994751   \n",
       "2                2        -73.997314        40.721458         -73.948029   \n",
       "3                6        -73.961670        40.759720         -73.956779   \n",
       "4                1        -74.017120        40.708469         -73.988182   \n",
       "\n",
       "   dropoff_latitude store_and_fwd_flag  trip_duration pickup_day_name  \\\n",
       "0         40.771164                  N            400          Monday   \n",
       "1         40.694931                  N           1100          Friday   \n",
       "2         40.774918                  N           1635          Sunday   \n",
       "3         40.780628                  N           1141         Tuesday   \n",
       "4         40.740631                  N            848       Wednesday   \n",
       "\n",
       "  dropoff_day_name pickup_month dropoff_month  pickup_day  dropoff_day  \\\n",
       "0           Monday     February      February          29           29   \n",
       "1           Friday        March         March          11           11   \n",
       "2           Sunday     February      February          21           21   \n",
       "3          Tuesday      January       January           5            5   \n",
       "4        Wednesday     February      February          17           17   \n",
       "\n",
       "   distance_in_km  \n",
       "0        1.199074  \n",
       "1        4.129117  \n",
       "2        7.250763  \n",
       "3        2.361101  \n",
       "4        4.328540  "
      ]
     },
     "execution_count": 15,
     "metadata": {},
     "output_type": "execute_result"
    }
   ],
   "source": [
    "df.head()"
   ]
  },
  {
   "cell_type": "code",
   "execution_count": 16,
   "id": "f60f74df",
   "metadata": {},
   "outputs": [
    {
     "data": {
      "text/plain": [
       "(729322, 18)"
      ]
     },
     "execution_count": 16,
     "metadata": {},
     "output_type": "execute_result"
    }
   ],
   "source": [
    "df.shape"
   ]
  },
  {
   "cell_type": "markdown",
   "id": "d467fc14",
   "metadata": {},
   "source": [
    "## Univariate Analysis"
   ]
  },
  {
   "cell_type": "code",
   "execution_count": 17,
   "id": "cafa7a1c",
   "metadata": {},
   "outputs": [
    {
     "data": {
      "text/plain": [
       "id                            object\n",
       "vendor_id                      int64\n",
       "pickup_datetime       datetime64[ns]\n",
       "dropoff_datetime      datetime64[ns]\n",
       "passenger_count                int64\n",
       "pickup_longitude             float64\n",
       "pickup_latitude              float64\n",
       "dropoff_longitude            float64\n",
       "dropoff_latitude             float64\n",
       "store_and_fwd_flag            object\n",
       "trip_duration                  int64\n",
       "pickup_day_name               object\n",
       "dropoff_day_name              object\n",
       "pickup_month                  object\n",
       "dropoff_month                 object\n",
       "pickup_day                     int64\n",
       "dropoff_day                    int64\n",
       "distance_in_km               float64\n",
       "dtype: object"
      ]
     },
     "execution_count": 17,
     "metadata": {},
     "output_type": "execute_result"
    }
   ],
   "source": [
    "df.dtypes"
   ]
  },
  {
   "cell_type": "code",
   "execution_count": 18,
   "id": "cae87538",
   "metadata": {},
   "outputs": [],
   "source": [
    "df['vendor_id'] = df['vendor_id'].astype('object')"
   ]
  },
  {
   "cell_type": "code",
   "execution_count": 19,
   "id": "3e79c07c",
   "metadata": {},
   "outputs": [
    {
     "data": {
      "text/plain": [
       "passenger_count        int64\n",
       "pickup_longitude     float64\n",
       "pickup_latitude      float64\n",
       "dropoff_longitude    float64\n",
       "dropoff_latitude     float64\n",
       "trip_duration          int64\n",
       "pickup_day             int64\n",
       "dropoff_day            int64\n",
       "distance_in_km       float64\n",
       "dtype: object"
      ]
     },
     "execution_count": 19,
     "metadata": {},
     "output_type": "execute_result"
    }
   ],
   "source": [
    "df.select_dtypes(include=['int64','float64','Int64']).dtypes"
   ]
  },
  {
   "cell_type": "code",
   "execution_count": 20,
   "id": "37608e5f",
   "metadata": {},
   "outputs": [
    {
     "data": {
      "text/plain": [
       "id                    object\n",
       "vendor_id             object\n",
       "store_and_fwd_flag    object\n",
       "pickup_day_name       object\n",
       "dropoff_day_name      object\n",
       "pickup_month          object\n",
       "dropoff_month         object\n",
       "dtype: object"
      ]
     },
     "execution_count": 20,
     "metadata": {},
     "output_type": "execute_result"
    }
   ],
   "source": [
    "df.select_dtypes(include=['category','object']).dtypes"
   ]
  },
  {
   "cell_type": "markdown",
   "id": "7f419ef3",
   "metadata": {},
   "source": [
    "### Variable - vendor_id"
   ]
  },
  {
   "cell_type": "code",
   "execution_count": 21,
   "id": "00873418",
   "metadata": {},
   "outputs": [
    {
     "data": {
      "text/plain": [
       "2    390481\n",
       "1    338841\n",
       "Name: vendor_id, dtype: int64"
      ]
     },
     "execution_count": 21,
     "metadata": {},
     "output_type": "execute_result"
    }
   ],
   "source": [
    "df['vendor_id'].value_counts()"
   ]
  },
  {
   "cell_type": "code",
   "execution_count": 22,
   "id": "8a8947c1",
   "metadata": {},
   "outputs": [
    {
     "data": {
      "text/plain": [
       "count     729322\n",
       "unique         2\n",
       "top            2\n",
       "freq      390481\n",
       "Name: vendor_id, dtype: int64"
      ]
     },
     "execution_count": 22,
     "metadata": {},
     "output_type": "execute_result"
    }
   ],
   "source": [
    "df['vendor_id'].describe()"
   ]
  },
  {
   "cell_type": "code",
   "execution_count": 23,
   "id": "92acf600",
   "metadata": {},
   "outputs": [
    {
     "data": {
      "image/png": "[encoded data removed]",
      "text/plain": [
       "<Figure size 360x360 with 1 Axes>"
      ]
     },
     "metadata": {},
     "output_type": "display_data"
    }
   ],
   "source": [
    "plt.figure(figsize=(5,5))\n",
    "labels = ['vendor 2','vendor 1']\n",
    "plt.pie(df['vendor_id'].value_counts(),labels=labels, autopct = '%0.0f%%')\n",
    "plt.legend()\n",
    "plt.title('Vendors Ratio')\n",
    "plt.show()"
   ]
  },
  {
   "cell_type": "markdown",
   "id": "48e46280",
   "metadata": {},
   "source": [
    "* **There are only 2 vendors for taxis in NYC dataset - vendor 2 and vendor 1**\n",
    "* **No siginficant difference between the number of taxis associated with each vendor**"
   ]
  },
  {
   "cell_type": "markdown",
   "id": "f2f4fc4a",
   "metadata": {},
   "source": [
    "### Variable - passenger_count"
   ]
  },
  {
   "cell_type": "code",
   "execution_count": 24,
   "id": "9d6f192a",
   "metadata": {},
   "outputs": [
    {
     "data": {
      "text/plain": [
       "1    517415\n",
       "2    105097\n",
       "5     38926\n",
       "3     29692\n",
       "6     24107\n",
       "4     14050\n",
       "0        33\n",
       "7         1\n",
       "9         1\n",
       "Name: passenger_count, dtype: int64"
      ]
     },
     "execution_count": 24,
     "metadata": {},
     "output_type": "execute_result"
    }
   ],
   "source": [
    "df['passenger_count'].value_counts()"
   ]
  },
  {
   "cell_type": "code",
   "execution_count": 25,
   "id": "170e30c5",
   "metadata": {},
   "outputs": [
    {
     "data": {
      "image/png": "[encoded data removed]",
      "text/plain": [
       "<Figure size 1080x360 with 2 Axes>"
      ]
     },
     "metadata": {
      "needs_background": "light"
     },
     "output_type": "display_data"
    }
   ],
   "source": [
    "fig, axes = plt.subplots(1, 2,figsize=(15,5),sharey=True)\n",
    "fig.suptitle('Passenger Count')\n",
    "sns.countplot(ax=axes[0], data=df, x=df['passenger_count'],palette=\"Set3\")\n",
    "sns.countplot(ax=axes[1], data=df, x=pd.cut(df['passenger_count'],[0,4,8,10]), palette=\"Set3\")\n",
    "plt.show()"
   ]
  },
  {
   "cell_type": "markdown",
   "id": "1e0b031e",
   "metadata": {},
   "source": [
    "\n",
    "* **Single passenger has boarded taxi most number of times**\n",
    "* **Some trips are also having 0 passengers, this could be possible as the ride started and got cancelled or driver might have missed to update the passenger count in application**\n",
    "* **Most trips are in 0-4 passenger category which belongs to the traditional cabs**"
   ]
  },
  {
   "cell_type": "code",
   "execution_count": 26,
   "id": "c125def8",
   "metadata": {},
   "outputs": [
    {
     "data": {
      "image/png": "[encoded data removed]",
      "text/plain": [
       "<Figure size 864x360 with 1 Axes>"
      ]
     },
     "metadata": {
      "needs_background": "light"
     },
     "output_type": "display_data"
    }
   ],
   "source": [
    "plt.figure(figsize = (12,5))\n",
    "sns.boxplot(data=df, x=df.passenger_count, palette=\"Set3\")\n",
    "plt.show()"
   ]
  },
  {
   "cell_type": "markdown",
   "id": "c67c2df3",
   "metadata": {},
   "source": [
    "* **Average passenger count lies between 1-2**\n",
    "* **Passengers greater than four are considered as outliers**"
   ]
  },
  {
   "cell_type": "markdown",
   "id": "f238a5bf",
   "metadata": {},
   "source": [
    "### Variable - pickup_day_name and dropoff_day_name"
   ]
  },
  {
   "cell_type": "code",
   "execution_count": 27,
   "id": "8849a312",
   "metadata": {},
   "outputs": [
    {
     "data": {
      "text/plain": [
       "Friday       111744\n",
       "Saturday     110252\n",
       "Thursday     109344\n",
       "Wednesday    105074\n",
       "Tuesday      101254\n",
       "Sunday        97682\n",
       "Monday        93972\n",
       "Name: pickup_day_name, dtype: int64"
      ]
     },
     "execution_count": 27,
     "metadata": {},
     "output_type": "execute_result"
    }
   ],
   "source": [
    "df['pickup_day_name'].value_counts()"
   ]
  },
  {
   "cell_type": "code",
   "execution_count": 28,
   "id": "a21e5293",
   "metadata": {},
   "outputs": [],
   "source": [
    "weekend = ['Sunday','Saturday']\n",
    "week_day = ['Monday','Tuesday','Wednesday','Thursday','Friday']\n",
    "df['day_type'] = df['pickup_day_name'].apply(lambda x:'weekend' if x in weekend else 'week day')\n"
   ]
  },
  {
   "cell_type": "code",
   "execution_count": 29,
   "id": "5c928f31",
   "metadata": {},
   "outputs": [],
   "source": [
    "df['day_type_dropoff'] = df['dropoff_day_name'].apply(lambda x:'weekend' if x in weekend else 'week day')"
   ]
  },
  {
   "cell_type": "code",
   "execution_count": 30,
   "id": "1685da44",
   "metadata": {},
   "outputs": [
    {
     "data": {
      "text/plain": [
       "week day    521388\n",
       "weekend     207934\n",
       "Name: day_type, dtype: int64"
      ]
     },
     "execution_count": 30,
     "metadata": {},
     "output_type": "execute_result"
    }
   ],
   "source": [
    "df['day_type'].value_counts()"
   ]
  },
  {
   "cell_type": "code",
   "execution_count": 31,
   "id": "8dac232a",
   "metadata": {},
   "outputs": [
    {
     "data": {
      "text/plain": [
       "week day    520472\n",
       "weekend     208850\n",
       "Name: day_type_dropoff, dtype: int64"
      ]
     },
     "execution_count": 31,
     "metadata": {},
     "output_type": "execute_result"
    }
   ],
   "source": [
    "df['day_type_dropoff'].value_counts()"
   ]
  },
  {
   "cell_type": "code",
   "execution_count": 32,
   "id": "b869a1bd",
   "metadata": {},
   "outputs": [
    {
     "data": {
      "image/png": "[encoded data removed]",
      "text/plain": [
       "<Figure size 720x360 with 2 Axes>"
      ]
     },
     "metadata": {},
     "output_type": "display_data"
    }
   ],
   "source": [
    "fig,ax = plt.subplots(1,2,figsize=(10,5))\n",
    "fig.suptitle('No of trips: Weekend vs Weekday',fontsize=15)\n",
    "\n",
    "palette_color = sns.color_palette('Spectral')\n",
    "ax[0].pie(x=df['day_type'].value_counts(),labels=labels, colors=palette_color,autopct ='%0.02f%%')\n",
    "labels = ['week day','weekend']\n",
    "ax[0].title.set_text('Pick up days')\n",
    "ax[0].legend()\n",
    "\n",
    "ax[1].pie(x=df['day_type_dropoff'].value_counts(),labels=labels,colors=palette_color,autopct = '%0.2f%%')\n",
    "labels = ['week day','weekend']\n",
    "ax[1].legend()\n",
    "ax[1].title.set_text('Dropoff days')\n",
    "plt.show()"
   ]
  },
  {
   "cell_type": "markdown",
   "id": "0aaafba0",
   "metadata": {},
   "source": [
    "* **Most trips are in week days, this is probably because people go to their work locations in week day and prefer to stay at home on weekends**\n",
    "* **there is a minor difference between pickup and dropoff days, this could be because of few long trips**"
   ]
  },
  {
   "cell_type": "markdown",
   "id": "8e0da666",
   "metadata": {},
   "source": [
    "### Variable - pickup_month and dropoff_month"
   ]
  },
  {
   "cell_type": "code",
   "execution_count": 33,
   "id": "7a82a84d",
   "metadata": {},
   "outputs": [
    {
     "data": {
      "text/plain": [
       "March       128316\n",
       "April       125634\n",
       "May         124201\n",
       "February    119364\n",
       "June        117406\n",
       "January     114401\n",
       "Name: pickup_month, dtype: int64"
      ]
     },
     "execution_count": 33,
     "metadata": {},
     "output_type": "execute_result"
    }
   ],
   "source": [
    "df['pickup_month'].value_counts()"
   ]
  },
  {
   "cell_type": "code",
   "execution_count": 34,
   "id": "aa115220",
   "metadata": {},
   "outputs": [
    {
     "data": {
      "text/plain": [
       "March       128284\n",
       "April       125633\n",
       "May         124236\n",
       "February    119361\n",
       "June        117380\n",
       "January     114375\n",
       "July            53\n",
       "Name: dropoff_month, dtype: int64"
      ]
     },
     "execution_count": 34,
     "metadata": {},
     "output_type": "execute_result"
    }
   ],
   "source": [
    "df['dropoff_month'].value_counts()"
   ]
  },
  {
   "cell_type": "code",
   "execution_count": 35,
   "id": "72307779",
   "metadata": {
    "scrolled": true
   },
   "outputs": [
    {
     "data": {
      "image/png": "[encoded data removed]",
      "text/plain": [
       "<Figure size 1080x288 with 2 Axes>"
      ]
     },
     "metadata": {
      "needs_background": "light"
     },
     "output_type": "display_data"
    }
   ],
   "source": [
    "fig, axes = plt.subplots(1, 2,figsize=(15,4),sharey=True)\n",
    "fig.suptitle('Pickup month and Dropoff month')\n",
    "sns.countplot(ax=axes[0], data=df, x=df['pickup_month'], order=df['pickup_month'].value_counts().index,palette=\"dark\")\n",
    "sns.countplot(ax=axes[1], data=df, x=df['dropoff_month'],order=df['dropoff_month'].value_counts().index, palette=\"dark\")\n",
    "plt.show()"
   ]
  },
  {
   "cell_type": "markdown",
   "id": "21df5538",
   "metadata": {},
   "source": [
    "* **there is high demand for taxi in March, April and May, which is a spring season so people like to go to different places**\n",
    "* **Also, there are some long trips which might have started in late June and ended in start of July**"
   ]
  },
  {
   "cell_type": "markdown",
   "id": "d476d379",
   "metadata": {},
   "source": [
    "### Variable - store_and_fwd_flag"
   ]
  },
  {
   "cell_type": "code",
   "execution_count": 36,
   "id": "ee49adec",
   "metadata": {},
   "outputs": [
    {
     "data": {
      "text/plain": [
       "N    725282\n",
       "Y      4040\n",
       "Name: store_and_fwd_flag, dtype: int64"
      ]
     },
     "execution_count": 36,
     "metadata": {},
     "output_type": "execute_result"
    }
   ],
   "source": [
    "df['store_and_fwd_flag'].value_counts()"
   ]
  },
  {
   "cell_type": "code",
   "execution_count": 37,
   "id": "ebde66ab",
   "metadata": {},
   "outputs": [
    {
     "data": {
      "image/png": "[encoded data removed]",
      "text/plain": [
       "<Figure size 360x360 with 1 Axes>"
      ]
     },
     "metadata": {},
     "output_type": "display_data"
    }
   ],
   "source": [
    "plt.figure(figsize=(5,5))\n",
    "labels = ['No','Yes']\n",
    "plt.pie(df['store_and_fwd_flag'].value_counts(),labels=labels, autopct = '%0.0f%%')\n",
    "plt.legend()\n",
    "plt.title('Store and fwd flag')\n",
    "plt.show()"
   ]
  },
  {
   "cell_type": "markdown",
   "id": "0ef61966",
   "metadata": {},
   "source": [
    "* **There were only 1% of trips for which data was stored in vehicle's memory. This indicates trips were mostly in areas where network connection was good**"
   ]
  },
  {
   "cell_type": "code",
   "execution_count": 37,
   "id": "93f88b46",
   "metadata": {},
   "outputs": [],
   "source": [
    "# pip install haversine"
   ]
  },
  {
   "cell_type": "code",
   "execution_count": 95,
   "id": "46858804",
   "metadata": {
    "scrolled": true
   },
   "outputs": [],
   "source": [
    "# from haversine import haversine\n",
    "# df['distance (km)'] = df.apply(lambda x: haversine((x['pickup_latitude'], x['pickup_longitude']), (x['dropoff_latitude'],x['dropoff_longitude'])), axis=1)"
   ]
  },
  {
   "cell_type": "code",
   "execution_count": 99,
   "id": "64e571ae",
   "metadata": {},
   "outputs": [],
   "source": [
    "# # df.head()\n",
    "# df.drop(['distance','distance (km)'],axis=1,inplace=True)"
   ]
  },
  {
   "cell_type": "code",
   "execution_count": 103,
   "id": "bfb617c9",
   "metadata": {},
   "outputs": [],
   "source": [
    "# df.rename(columns={'distance_in_km)':'distance_in_km'},inplace=True)"
   ]
  },
  {
   "cell_type": "code",
   "execution_count": 38,
   "id": "fd56563a",
   "metadata": {},
   "outputs": [
    {
     "data": {
      "text/html": [
       "<div>\n",
       "<style scoped>\n",
       "    .dataframe tbody tr th:only-of-type {\n",
       "        vertical-align: middle;\n",
       "    }\n",
       "\n",
       "    .dataframe tbody tr th {\n",
       "        vertical-align: top;\n",
       "    }\n",
       "\n",
       "    .dataframe thead th {\n",
       "        text-align: right;\n",
       "    }\n",
       "</style>\n",
       "<table border=\"1\" class=\"dataframe\">\n",
       "  <thead>\n",
       "    <tr style=\"text-align: right;\">\n",
       "      <th></th>\n",
       "      <th>id</th>\n",
       "      <th>vendor_id</th>\n",
       "      <th>pickup_datetime</th>\n",
       "      <th>dropoff_datetime</th>\n",
       "      <th>passenger_count</th>\n",
       "      <th>pickup_longitude</th>\n",
       "      <th>pickup_latitude</th>\n",
       "      <th>dropoff_longitude</th>\n",
       "      <th>dropoff_latitude</th>\n",
       "      <th>store_and_fwd_flag</th>\n",
       "      <th>trip_duration</th>\n",
       "      <th>pickup_day_name</th>\n",
       "      <th>dropoff_day_name</th>\n",
       "      <th>pickup_month</th>\n",
       "      <th>dropoff_month</th>\n",
       "      <th>pickup_day</th>\n",
       "      <th>dropoff_day</th>\n",
       "      <th>distance_in_km</th>\n",
       "      <th>day_type</th>\n",
       "      <th>day_type_dropoff</th>\n",
       "    </tr>\n",
       "  </thead>\n",
       "  <tbody>\n",
       "    <tr>\n",
       "      <th>0</th>\n",
       "      <td>id1080784</td>\n",
       "      <td>2</td>\n",
       "      <td>2016-02-29 16:40:21</td>\n",
       "      <td>2016-02-29 16:47:01</td>\n",
       "      <td>1</td>\n",
       "      <td>-73.953918</td>\n",
       "      <td>40.778873</td>\n",
       "      <td>-73.963875</td>\n",
       "      <td>40.771164</td>\n",
       "      <td>N</td>\n",
       "      <td>400</td>\n",
       "      <td>Monday</td>\n",
       "      <td>Monday</td>\n",
       "      <td>February</td>\n",
       "      <td>February</td>\n",
       "      <td>29</td>\n",
       "      <td>29</td>\n",
       "      <td>1.199074</td>\n",
       "      <td>week day</td>\n",
       "      <td>week day</td>\n",
       "    </tr>\n",
       "    <tr>\n",
       "      <th>1</th>\n",
       "      <td>id0889885</td>\n",
       "      <td>1</td>\n",
       "      <td>2016-03-11 23:35:37</td>\n",
       "      <td>2016-03-11 23:53:57</td>\n",
       "      <td>2</td>\n",
       "      <td>-73.988312</td>\n",
       "      <td>40.731743</td>\n",
       "      <td>-73.994751</td>\n",
       "      <td>40.694931</td>\n",
       "      <td>N</td>\n",
       "      <td>1100</td>\n",
       "      <td>Friday</td>\n",
       "      <td>Friday</td>\n",
       "      <td>March</td>\n",
       "      <td>March</td>\n",
       "      <td>11</td>\n",
       "      <td>11</td>\n",
       "      <td>4.129117</td>\n",
       "      <td>week day</td>\n",
       "      <td>week day</td>\n",
       "    </tr>\n",
       "    <tr>\n",
       "      <th>2</th>\n",
       "      <td>id0857912</td>\n",
       "      <td>2</td>\n",
       "      <td>2016-02-21 17:59:33</td>\n",
       "      <td>2016-02-21 18:26:48</td>\n",
       "      <td>2</td>\n",
       "      <td>-73.997314</td>\n",
       "      <td>40.721458</td>\n",
       "      <td>-73.948029</td>\n",
       "      <td>40.774918</td>\n",
       "      <td>N</td>\n",
       "      <td>1635</td>\n",
       "      <td>Sunday</td>\n",
       "      <td>Sunday</td>\n",
       "      <td>February</td>\n",
       "      <td>February</td>\n",
       "      <td>21</td>\n",
       "      <td>21</td>\n",
       "      <td>7.250763</td>\n",
       "      <td>weekend</td>\n",
       "      <td>weekend</td>\n",
       "    </tr>\n",
       "    <tr>\n",
       "      <th>3</th>\n",
       "      <td>id3744273</td>\n",
       "      <td>2</td>\n",
       "      <td>2016-01-05 09:44:31</td>\n",
       "      <td>2016-01-05 10:03:32</td>\n",
       "      <td>6</td>\n",
       "      <td>-73.961670</td>\n",
       "      <td>40.759720</td>\n",
       "      <td>-73.956779</td>\n",
       "      <td>40.780628</td>\n",
       "      <td>N</td>\n",
       "      <td>1141</td>\n",
       "      <td>Tuesday</td>\n",
       "      <td>Tuesday</td>\n",
       "      <td>January</td>\n",
       "      <td>January</td>\n",
       "      <td>5</td>\n",
       "      <td>5</td>\n",
       "      <td>2.361101</td>\n",
       "      <td>week day</td>\n",
       "      <td>week day</td>\n",
       "    </tr>\n",
       "    <tr>\n",
       "      <th>4</th>\n",
       "      <td>id0232939</td>\n",
       "      <td>1</td>\n",
       "      <td>2016-02-17 06:42:23</td>\n",
       "      <td>2016-02-17 06:56:31</td>\n",
       "      <td>1</td>\n",
       "      <td>-74.017120</td>\n",
       "      <td>40.708469</td>\n",
       "      <td>-73.988182</td>\n",
       "      <td>40.740631</td>\n",
       "      <td>N</td>\n",
       "      <td>848</td>\n",
       "      <td>Wednesday</td>\n",
       "      <td>Wednesday</td>\n",
       "      <td>February</td>\n",
       "      <td>February</td>\n",
       "      <td>17</td>\n",
       "      <td>17</td>\n",
       "      <td>4.328540</td>\n",
       "      <td>week day</td>\n",
       "      <td>week day</td>\n",
       "    </tr>\n",
       "  </tbody>\n",
       "</table>\n",
       "</div>"
      ],
      "text/plain": [
       "          id vendor_id     pickup_datetime    dropoff_datetime  \\\n",
       "0  id1080784         2 2016-02-29 16:40:21 2016-02-29 16:47:01   \n",
       "1  id0889885         1 2016-03-11 23:35:37 2016-03-11 23:53:57   \n",
       "2  id0857912         2 2016-02-21 17:59:33 2016-02-21 18:26:48   \n",
       "3  id3744273         2 2016-01-05 09:44:31 2016-01-05 10:03:32   \n",
       "4  id0232939         1 2016-02-17 06:42:23 2016-02-17 06:56:31   \n",
       "\n",
       "   passenger_count  pickup_longitude  pickup_latitude  dropoff_longitude  \\\n",
       "0                1        -73.953918        40.778873         -73.963875   \n",
       "1                2        -73.988312        40.731743         -73.994751   \n",
       "2                2        -73.997314        40.721458         -73.948029   \n",
       "3                6        -73.961670        40.759720         -73.956779   \n",
       "4                1        -74.017120        40.708469         -73.988182   \n",
       "\n",
       "   dropoff_latitude store_and_fwd_flag  trip_duration pickup_day_name  \\\n",
       "0         40.771164                  N            400          Monday   \n",
       "1         40.694931                  N           1100          Friday   \n",
       "2         40.774918                  N           1635          Sunday   \n",
       "3         40.780628                  N           1141         Tuesday   \n",
       "4         40.740631                  N            848       Wednesday   \n",
       "\n",
       "  dropoff_day_name pickup_month dropoff_month  pickup_day  dropoff_day  \\\n",
       "0           Monday     February      February          29           29   \n",
       "1           Friday        March         March          11           11   \n",
       "2           Sunday     February      February          21           21   \n",
       "3          Tuesday      January       January           5            5   \n",
       "4        Wednesday     February      February          17           17   \n",
       "\n",
       "   distance_in_km  day_type day_type_dropoff  \n",
       "0        1.199074  week day         week day  \n",
       "1        4.129117  week day         week day  \n",
       "2        7.250763   weekend          weekend  \n",
       "3        2.361101  week day         week day  \n",
       "4        4.328540  week day         week day  "
      ]
     },
     "execution_count": 38,
     "metadata": {},
     "output_type": "execute_result"
    }
   ],
   "source": [
    "df.head()"
   ]
  },
  {
   "cell_type": "markdown",
   "id": "8104cb08",
   "metadata": {},
   "source": [
    "### Variable - distance_in_km"
   ]
  },
  {
   "cell_type": "code",
   "execution_count": 39,
   "id": "2c018c33",
   "metadata": {},
   "outputs": [
    {
     "data": {
      "text/plain": [
       "count    729322.000000\n",
       "mean          3.441143\n",
       "std           4.353138\n",
       "min           0.000000\n",
       "25%           1.232697\n",
       "50%           2.095675\n",
       "75%           3.876486\n",
       "max        1240.910391\n",
       "Name: distance_in_km, dtype: float64"
      ]
     },
     "execution_count": 39,
     "metadata": {},
     "output_type": "execute_result"
    }
   ],
   "source": [
    "df['distance_in_km'].describe()"
   ]
  },
  {
   "cell_type": "code",
   "execution_count": 40,
   "id": "86a730bf",
   "metadata": {},
   "outputs": [
    {
     "data": {
      "image/png": "[encoded data removed]",
      "text/plain": [
       "<Figure size 864x360 with 1 Axes>"
      ]
     },
     "metadata": {
      "needs_background": "light"
     },
     "output_type": "display_data"
    }
   ],
   "source": [
    "plt.figure(figsize=(12,5))\n",
    "sns.kdeplot(df['distance_in_km'])\n",
    "plt.show()"
   ]
  },
  {
   "cell_type": "code",
   "execution_count": 41,
   "id": "ab79899d",
   "metadata": {},
   "outputs": [
    {
     "data": {
      "image/png": "[encoded data removed]",
      "text/plain": [
       "<Figure size 864x360 with 1 Axes>"
      ]
     },
     "metadata": {
      "needs_background": "light"
     },
     "output_type": "display_data"
    }
   ],
   "source": [
    "plt.figure(figsize=(12,5))\n",
    "sns.boxplot(data = df, x = df['distance_in_km'], palette='Set3')\n",
    "plt.show()"
   ]
  },
  {
   "cell_type": "code",
   "execution_count": 42,
   "id": "73ff9ffd",
   "metadata": {},
   "outputs": [
    {
     "data": {
      "image/png": "[encoded data removed]",
      "text/plain": [
       "<Figure size 864x360 with 1 Axes>"
      ]
     },
     "metadata": {
      "needs_background": "light"
     },
     "output_type": "display_data"
    }
   ],
   "source": [
    "plt.figure(figsize=(12,5))\n",
    "sns.countplot(data = df, x=pd.cut(df['distance_in_km'],[0,2,4,6,8,10,12,14,16,18,20,22,24,1300]), palette='Set3')\n",
    "plt.show()"
   ]
  },
  {
   "cell_type": "markdown",
   "id": "3fb864b5",
   "metadata": {},
   "source": [
    "* **Distance value lie between 0 km - 1240 km**\n",
    "* **Avergae distance travelled in a trip is 3.4 kms**\n",
    "* **50% of distance value lie below 2 kms and 75% lie below 3.8 kms**\n",
    "* **There are outliers in data which corresponds to long trips, also there are some trips with 0 distance**\n",
    "* **There are more short than long trips so, people are preferring taxis for a shorter distance as compared to long trip, this could be because of fare or a different mode of transportation is used for longer distance.**"
   ]
  },
  {
   "cell_type": "markdown",
   "id": "e4a4b681",
   "metadata": {},
   "source": [
    "### Variable - trip_duration"
   ]
  },
  {
   "cell_type": "code",
   "execution_count": 43,
   "id": "b27665ce",
   "metadata": {},
   "outputs": [],
   "source": [
    "df['pickup_hour'] = df.pickup_datetime.dt.hour"
   ]
  },
  {
   "cell_type": "code",
   "execution_count": 44,
   "id": "3e9b8be9",
   "metadata": {},
   "outputs": [],
   "source": [
    "df['trip_duration'] = df['trip_duration'].apply(lambda x: x/60)"
   ]
  },
  {
   "cell_type": "code",
   "execution_count": 45,
   "id": "877c8472",
   "metadata": {},
   "outputs": [
    {
     "data": {
      "text/plain": [
       "count    729322.000000\n",
       "mean         15.870486\n",
       "std          64.410437\n",
       "min           0.016667\n",
       "25%           6.616667\n",
       "50%          11.050000\n",
       "75%          17.916667\n",
       "max       32328.933333\n",
       "Name: trip_duration, dtype: float64"
      ]
     },
     "execution_count": 45,
     "metadata": {},
     "output_type": "execute_result"
    }
   ],
   "source": [
    "df['trip_duration'].describe()"
   ]
  },
  {
   "cell_type": "markdown",
   "id": "1842f731",
   "metadata": {},
   "source": [
    "* **Average trip duration is around 15-16 mins with minimum value of 1 second and maximum value of 538 hours**\n",
    "* **50% values are less than 11 mins and 25% values are less than 6 mins**"
   ]
  },
  {
   "cell_type": "code",
   "execution_count": 46,
   "id": "aa9b120e",
   "metadata": {},
   "outputs": [
    {
     "data": {
      "image/png": "[encoded data removed]",
      "text/plain": [
       "<Figure size 720x360 with 1 Axes>"
      ]
     },
     "metadata": {
      "needs_background": "light"
     },
     "output_type": "display_data"
    }
   ],
   "source": [
    "plt.figure(figsize=(10,5))\n",
    "group1 = df.groupby('pickup_hour').trip_duration.mean()\n",
    "sns.pointplot(x=group1.index, y=group1.values, color='blue')\n",
    "plt.ylabel('Trip Duration (seconds)')\n",
    "plt.xlabel('Pickup Hour')\n",
    "plt.show()"
   ]
  },
  {
   "cell_type": "markdown",
   "id": "0f98289a",
   "metadata": {},
   "source": [
    "* **Average trip duration is maximum between 3pm-5pm i.e afternoon time and lowest in the morning 6 am**\n",
    "* **Average trip duration increases in the morning after 6 am till 9 am and then flattens that could be because people usually go to office at that time**"
   ]
  },
  {
   "cell_type": "code",
   "execution_count": 47,
   "id": "28f87d49",
   "metadata": {},
   "outputs": [
    {
     "data": {
      "image/png": "[encoded data removed]",
      "text/plain": [
       "<Figure size 432x288 with 1 Axes>"
      ]
     },
     "metadata": {
      "needs_background": "light"
     },
     "output_type": "display_data"
    }
   ],
   "source": [
    "group2 = df.groupby('pickup_day_name').trip_duration.mean()\n",
    "sns.pointplot(x = group2.index, y = group2.values)\n",
    "plt.ylabel('Trip Duration (seconds)')\n",
    "plt.xlabel('Pickup day ')\n",
    "plt.show()"
   ]
  },
  {
   "cell_type": "markdown",
   "id": "01e1fb1f",
   "metadata": {},
   "source": [
    "* **Average trip duration is maximum around thursday and friday and lowest on Moday and Sunday**"
   ]
  },
  {
   "cell_type": "code",
   "execution_count": 54,
   "id": "77adb680",
   "metadata": {},
   "outputs": [
    {
     "data": {
      "image/png": "[encoded data removed]",
      "text/plain": [
       "<Figure size 720x432 with 2 Axes>"
      ]
     },
     "metadata": {
      "needs_background": "light"
     },
     "output_type": "display_data"
    }
   ],
   "source": [
    "plt.figure(figsize=(10,6))\n",
    "sns.heatmap(df.corr(),fmt='.2f', annot=True, cmap='coolwarm')\n",
    "plt.show()"
   ]
  },
  {
   "cell_type": "markdown",
   "id": "c451c0dc",
   "metadata": {},
   "source": [
    "* **There is a +ve correlation between distance and trip duration**"
   ]
  },
  {
   "cell_type": "code",
   "execution_count": null,
   "id": "84842a41",
   "metadata": {},
   "outputs": [],
   "source": []
  }
 ],
 "metadata": {
  "kernelspec": {
   "display_name": "Python 3 (ipykernel)",
   "language": "python",
   "name": "python3"
  },
  "language_info": {
   "codemirror_mode": {
    "name": "ipython",
    "version": 3
   },
   "file_extension": ".py",
   "mimetype": "text/x-python",
   "name": "python",
   "nbconvert_exporter": "python",
   "pygments_lexer": "ipython3",
   "version": "3.9.7"
  }
 },
 "nbformat": 4,
 "nbformat_minor": 5
}
